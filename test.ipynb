{
 "cells": [
  {
   "cell_type": "code",
   "execution_count": 1,
   "metadata": {},
   "outputs": [],
   "source": [
    "import json"
   ]
  },
  {
   "cell_type": "code",
   "execution_count": 2,
   "metadata": {},
   "outputs": [],
   "source": [
    "# Read in result.json\n",
    "with open('result.json', 'r') as f:\n",
    "    result = json.load(f)"
   ]
  },
  {
   "cell_type": "code",
   "execution_count": 5,
   "metadata": {},
   "outputs": [
    {
     "data": {
      "text/plain": [
       "{'daily_new_cases_per_100k': 0.17277035537134397,\n",
       " '7d_rolling_avg_cases_per_100k': 0.17277035537134397,\n",
       " 'daily_new_deaths_per_100k': 0.0,\n",
       " '7d_rolling_avg_deaths_per_100k': 0.0,\n",
       " 'daily_percentage_of_people_who_received_at_least_one_dose': 0.0,\n",
       " 'daily_percentage_of_people_who_are_fully_vaccinated': 0.0}"
      ]
     },
     "execution_count": 5,
     "metadata": {},
     "output_type": "execute_result"
    }
   ],
   "source": [
    "result['51']['2020-03-11']"
   ]
  },
  {
   "cell_type": "code",
   "execution_count": null,
   "metadata": {},
   "outputs": [],
   "source": []
  }
 ],
 "metadata": {
  "kernelspec": {
   "display_name": "Python 3.8.13 ('data')",
   "language": "python",
   "name": "python3"
  },
  "language_info": {
   "codemirror_mode": {
    "name": "ipython",
    "version": 3
   },
   "file_extension": ".py",
   "mimetype": "text/x-python",
   "name": "python",
   "nbconvert_exporter": "python",
   "pygments_lexer": "ipython3",
   "version": "3.8.13"
  },
  "orig_nbformat": 4,
  "vscode": {
   "interpreter": {
    "hash": "3942b381eed3aa96def3a835413ba2aa4a126185d3bedae75e2ae03d61bea62e"
   }
  }
 },
 "nbformat": 4,
 "nbformat_minor": 2
}
